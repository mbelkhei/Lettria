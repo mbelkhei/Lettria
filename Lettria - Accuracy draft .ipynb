{
 "cells": [
  {
   "cell_type": "code",
   "execution_count": 1,
   "metadata": {
    "collapsed": true
   },
   "outputs": [],
   "source": [
    "import numpy as np\n",
    "import nltk\n",
    "import pandas as pd\n",
    "import re\n",
    "\n",
    "import seaborn as sns\n",
    "import matplotlib.pyplot as plt\n",
    "%matplotlib inline\n",
    "\n",
    "from conllu import parse, parse_tree #using the conllu for parsing (pip install conllu)"
   ]
  },
  {
   "cell_type": "code",
   "execution_count": 2,
   "metadata": {
    "collapsed": true
   },
   "outputs": [],
   "source": [
    "# the corpus I am suggesting is from https://deep-sequoia.inria.fr/versions/\n",
    "corpus = nltk.corpus.reader.plaintext.PlaintextCorpusReader(\".\", \"sequoia-8.1/sequoia.deep.conll\")\n",
    "data = re.sub(r\" +\", r\"\\t\", corpus.raw())\n",
    "sentences = parse(data)"
   ]
  },
  {
   "cell_type": "markdown",
   "metadata": {},
   "source": [
    "The corpus contains 3099 sentences.\n",
    "\n",
    "Number of sentences for each sub-domain :\n",
    "- 561 sentences\tEuroparl\t file= Europar.550+fct.mrg\n",
    "- 529 sentences\tEstRepublicain   file= annodis.er+fct.mrg\n",
    "- 996 sentences\tFrench Wikipedia file= frwiki_50.1000+fct.mrg\n",
    "- 574 sentences\tEMEA (dev)  \t file= emea-fr-dev+fct.mrg\n",
    "- 544 sentences\tEMEA (test) \t file= emea-fr-test+fct.mrg, among which 101 were removed (because duplicates) in surface version 6.0 and 1.0 deep version."
   ]
  },
  {
   "cell_type": "code",
   "execution_count": 3,
   "metadata": {},
   "outputs": [
    {
     "data": {
      "text/plain": [
       "[OrderedDict([('id', 1),\n",
       "              ('form', 'Cette'),\n",
       "              ('lemma', 'ce'),\n",
       "              ('upostag', 'D'),\n",
       "              ('xpostag', 'DET'),\n",
       "              ('feats', OrderedDict([('g', 'f'), ('n', 's'), ('s', 'dem')])),\n",
       "              ('head', 2),\n",
       "              ('deprel', 'det'),\n",
       "              ('deps', None),\n",
       "              ('misc', None)]),\n",
       " OrderedDict([('id', 2),\n",
       "              ('form', 'exposition'),\n",
       "              ('lemma', 'exposition'),\n",
       "              ('upostag', 'N'),\n",
       "              ('xpostag', 'NC'),\n",
       "              ('feats', OrderedDict([('g', 'f'), ('n', 's'), ('s', 'c')])),\n",
       "              ('head', 4),\n",
       "              ('deprel', 'suj'),\n",
       "              ('deps', None),\n",
       "              ('misc', None)]),\n",
       " OrderedDict([('id', 3),\n",
       "              ('form', 'nous'),\n",
       "              ('lemma', 'le'),\n",
       "              ('upostag', 'CL'),\n",
       "              ('xpostag', 'CLO'),\n",
       "              ('feats', OrderedDict([('n', 'p'), ('p', '1'), ('s', 'obj')])),\n",
       "              ('head', 4),\n",
       "              ('deprel', 'a_obj'),\n",
       "              ('deps', None),\n",
       "              ('misc', None)]),\n",
       " OrderedDict([('id', 4),\n",
       "              ('form', 'apprend'),\n",
       "              ('lemma', 'apprendre'),\n",
       "              ('upostag', 'V'),\n",
       "              ('xpostag', 'V'),\n",
       "              ('feats',\n",
       "               OrderedDict([('dl', 'apprendre'),\n",
       "                            ('dm', 'ind'),\n",
       "                            ('m', 'ind'),\n",
       "                            ('n', 's'),\n",
       "                            ('p', '3'),\n",
       "                            ('t', 'pst')])),\n",
       "              ('head', 0),\n",
       "              ('deprel', 'root'),\n",
       "              ('deps', None),\n",
       "              ('misc', None)]),\n",
       " OrderedDict([('id', 5),\n",
       "              ('form', 'que'),\n",
       "              ('lemma', 'que'),\n",
       "              ('upostag', 'C'),\n",
       "              ('xpostag', 'CS'),\n",
       "              ('feats', OrderedDict([('s', 's'), ('void', 'y')])),\n",
       "              ('head', 0),\n",
       "              ('deprel', 'void'),\n",
       "              ('deps', None),\n",
       "              ('misc', None)]),\n",
       " OrderedDict([('id', 6),\n",
       "              ('form', 'dès'),\n",
       "              ('lemma', 'dès'),\n",
       "              ('upostag', 'P'),\n",
       "              ('xpostag', 'P'),\n",
       "              ('feats', None),\n",
       "              ('head', 21),\n",
       "              ('deprel', 'mod'),\n",
       "              ('deps', None),\n",
       "              ('misc', None)]),\n",
       " OrderedDict([('id', 7),\n",
       "              ('form', 'le'),\n",
       "              ('lemma', 'le'),\n",
       "              ('upostag', 'D'),\n",
       "              ('xpostag', 'DET'),\n",
       "              ('feats', OrderedDict([('g', 'm'), ('n', 's'), ('s', 'def')])),\n",
       "              ('head', 9),\n",
       "              ('deprel', 'det'),\n",
       "              ('deps', None),\n",
       "              ('misc', None)]),\n",
       " OrderedDict([('id', 8),\n",
       "              ('form', 'XIIe'),\n",
       "              ('lemma', 'XIIe'),\n",
       "              ('upostag', 'A'),\n",
       "              ('xpostag', 'ADJ'),\n",
       "              ('feats', OrderedDict([('s', 'ord')])),\n",
       "              ('head', 9),\n",
       "              ('deprel', 'mod'),\n",
       "              ('deps', None),\n",
       "              ('misc', None)]),\n",
       " OrderedDict([('id', 9),\n",
       "              ('form', 'siècle'),\n",
       "              ('lemma', 'siècle'),\n",
       "              ('upostag', 'N'),\n",
       "              ('xpostag', 'NC'),\n",
       "              ('feats',\n",
       "               OrderedDict([('def', 'y'),\n",
       "                            ('g', 'm'),\n",
       "                            ('n', 's'),\n",
       "                            ('s', 'c')])),\n",
       "              ('head', None),\n",
       "              ('deprel', 'suj|obj.p'),\n",
       "              ('deps', None),\n",
       "              ('misc', None)]),\n",
       " OrderedDict([('id', 10),\n",
       "              ('form', ','),\n",
       "              ('lemma', ','),\n",
       "              ('upostag', 'PONCT'),\n",
       "              ('xpostag', 'PONCT'),\n",
       "              ('feats', OrderedDict([('s', 'w')])),\n",
       "              ('head', 21),\n",
       "              ('deprel', 'ponct'),\n",
       "              ('deps', None),\n",
       "              ('misc', None)]),\n",
       " OrderedDict([('id', 11),\n",
       "              ('form', 'à'),\n",
       "              ('lemma', 'à'),\n",
       "              ('upostag', 'P'),\n",
       "              ('xpostag', 'P'),\n",
       "              ('feats', None),\n",
       "              ('head', 21),\n",
       "              ('deprel', 'mod'),\n",
       "              ('deps', None),\n",
       "              ('misc', None)]),\n",
       " OrderedDict([('id', 12),\n",
       "              ('form', 'Dammarie-sur-Saulx'),\n",
       "              ('lemma', 'Dammarie-sur-Saulx'),\n",
       "              ('upostag', 'N'),\n",
       "              ('xpostag', 'NPP'),\n",
       "              ('feats', OrderedDict([('g', 'm'), ('n', 's'), ('s', 'p')])),\n",
       "              ('head', 11),\n",
       "              ('deprel', 'obj.p'),\n",
       "              ('deps', None),\n",
       "              ('misc', None)]),\n",
       " OrderedDict([('id', 13),\n",
       "              ('form', ','),\n",
       "              ('lemma', ','),\n",
       "              ('upostag', 'PONCT'),\n",
       "              ('xpostag', 'PONCT'),\n",
       "              ('feats', OrderedDict([('s', 'w')])),\n",
       "              ('head', 21),\n",
       "              ('deprel', 'ponct'),\n",
       "              ('deps', None),\n",
       "              ('misc', None)]),\n",
       " OrderedDict([('id', 14),\n",
       "              ('form', 'entre'),\n",
       "              ('lemma', 'entre'),\n",
       "              ('upostag', 'P'),\n",
       "              ('xpostag', 'P'),\n",
       "              ('feats', None),\n",
       "              ('head', 21),\n",
       "              ('deprel', 'mod'),\n",
       "              ('deps', None),\n",
       "              ('misc', None)]),\n",
       " OrderedDict([('id', 15),\n",
       "              ('form', 'autres'),\n",
       "              ('lemma', 'autre'),\n",
       "              ('upostag', 'A'),\n",
       "              ('xpostag', 'ADJ'),\n",
       "              ('feats', OrderedDict([('n', 'p'), ('s', 'ind')])),\n",
       "              ('head', 16),\n",
       "              ('deprel', 'mod'),\n",
       "              ('deps', None),\n",
       "              ('misc', None)]),\n",
       " OrderedDict([('id', 16),\n",
       "              ('form', 'sites'),\n",
       "              ('lemma', 'site'),\n",
       "              ('upostag', 'N'),\n",
       "              ('xpostag', 'NC'),\n",
       "              ('feats', OrderedDict([('g', 'm'), ('n', 'p'), ('s', 'c')])),\n",
       "              ('head', None),\n",
       "              ('deprel', 'suj|obj.p'),\n",
       "              ('deps', None),\n",
       "              ('misc', None)]),\n",
       " OrderedDict([('id', 17),\n",
       "              ('form', ','),\n",
       "              ('lemma', ','),\n",
       "              ('upostag', 'PONCT'),\n",
       "              ('xpostag', 'PONCT'),\n",
       "              ('feats', OrderedDict([('s', 'w')])),\n",
       "              ('head', 21),\n",
       "              ('deprel', 'ponct'),\n",
       "              ('deps', None),\n",
       "              ('misc', None)]),\n",
       " OrderedDict([('id', 18),\n",
       "              ('form', 'une'),\n",
       "              ('lemma', 'un'),\n",
       "              ('upostag', 'D'),\n",
       "              ('xpostag', 'DET'),\n",
       "              ('feats', OrderedDict([('g', 'f'), ('n', 's'), ('s', 'ind')])),\n",
       "              ('head', 19),\n",
       "              ('deprel', 'det'),\n",
       "              ('deps', None),\n",
       "              ('misc', None)]),\n",
       " OrderedDict([('id', 19),\n",
       "              ('form', 'industrie'),\n",
       "              ('lemma', 'industrie'),\n",
       "              ('upostag', 'N'),\n",
       "              ('xpostag', 'NC'),\n",
       "              ('feats', OrderedDict([('g', 'f'), ('n', 's'), ('s', 'c')])),\n",
       "              ('head', None),\n",
       "              ('deprel', 'suj|suj'),\n",
       "              ('deps', None),\n",
       "              ('misc', None)]),\n",
       " OrderedDict([('id', 20),\n",
       "              ('form', 'métallurgique'),\n",
       "              ('lemma', 'métallurgique'),\n",
       "              ('upostag', 'A'),\n",
       "              ('xpostag', 'ADJ'),\n",
       "              ('feats', OrderedDict([('n', 's'), ('s', 'qual')])),\n",
       "              ('head', 19),\n",
       "              ('deprel', 'mod'),\n",
       "              ('deps', None),\n",
       "              ('misc', None)]),\n",
       " OrderedDict([('id', 21),\n",
       "              ('form', 'existait'),\n",
       "              ('lemma', 'exister'),\n",
       "              ('upostag', 'V'),\n",
       "              ('xpostag', 'V'),\n",
       "              ('feats',\n",
       "               OrderedDict([('dl', 'exister'),\n",
       "                            ('dm', 'ind'),\n",
       "                            ('m', 'ind'),\n",
       "                            ('n', 's'),\n",
       "                            ('p', '3'),\n",
       "                            ('t', 'impft')])),\n",
       "              ('head', 4),\n",
       "              ('deprel', 'obj'),\n",
       "              ('deps', None),\n",
       "              ('misc', None)]),\n",
       " OrderedDict([('id', 22),\n",
       "              ('form', '.'),\n",
       "              ('lemma', '.'),\n",
       "              ('upostag', 'PONCT'),\n",
       "              ('xpostag', 'PONCT'),\n",
       "              ('feats', OrderedDict([('s', 's')])),\n",
       "              ('head', 4),\n",
       "              ('deprel', 'ponct'),\n",
       "              ('deps', None),\n",
       "              ('misc', None)])]"
      ]
     },
     "execution_count": 3,
     "metadata": {},
     "output_type": "execute_result"
    }
   ],
   "source": [
    "#a preview of every sentence\n",
    "sentences[1]"
   ]
  },
  {
   "cell_type": "code",
   "execution_count": 4,
   "metadata": {},
   "outputs": [
    {
     "name": "stdout",
     "output_type": "stream",
     "text": [
      "There are 3099 sentences in the corpus\n"
     ]
    }
   ],
   "source": [
    "print('There are %d sentences in the corpus'%len(sentences))"
   ]
  },
  {
   "cell_type": "code",
   "execution_count": 5,
   "metadata": {
    "collapsed": true
   },
   "outputs": [],
   "source": [
    "sentlen = []\n",
    "\n",
    "for sent in sentences:\n",
    "    sentlen.append(len(sent))"
   ]
  },
  {
   "cell_type": "code",
   "execution_count": 6,
   "metadata": {},
   "outputs": [
    {
     "data": {
      "text/plain": [
       "'The average sentence lenght is 22.20'"
      ]
     },
     "execution_count": 6,
     "metadata": {},
     "output_type": "execute_result"
    }
   ],
   "source": [
    "('The average sentence lenght is %.2f'%np.mean(sentlen))"
   ]
  },
  {
   "cell_type": "code",
   "execution_count": 7,
   "metadata": {
    "collapsed": true
   },
   "outputs": [],
   "source": [
    "tags = {}\n",
    "\n",
    "for sent in sentences:\n",
    "    for word in sent: \n",
    "        if word['xpostag'] in tags:\n",
    "            tags[word['xpostag']] += 1\n",
    "        else:\n",
    "            tags[word['xpostag']] = 1"
   ]
  },
  {
   "cell_type": "code",
   "execution_count": 8,
   "metadata": {},
   "outputs": [
    {
     "data": {
      "text/plain": [
       "Text(0.5,1,'Count of tags')"
      ]
     },
     "execution_count": 8,
     "metadata": {},
     "output_type": "execute_result"
    },
    {
     "data": {
      "image/png": "[encoded data removed]",
      "text/plain": [
       "<Figure size 1296x360 with 1 Axes>"
      ]
     },
     "metadata": {},
     "output_type": "display_data"
    }
   ],
   "source": [
    "plt.subplots(figsize=(18,5))\n",
    "sns.categorical.barplot(x=list(tags.keys()), y=list(tags.values()),color='c')\n",
    "plt.title('Count of tags')"
   ]
  },
  {
   "cell_type": "code",
   "execution_count": 9,
   "metadata": {
    "collapsed": true
   },
   "outputs": [],
   "source": [
    "def text(t):\n",
    "    text = []\n",
    "    for i in t:\n",
    "        text.append(i['form'])\n",
    "    return re.sub('\\' ','\\'',' '.join(text))"
   ]
  },
  {
   "cell_type": "code",
   "execution_count": 10,
   "metadata": {},
   "outputs": [
    {
     "data": {
      "text/plain": [
       "\"Ensuite , fut installée une autre forge à la Vacquerie , à l'emplacement aujourd'hui de Cora .\""
      ]
     },
     "execution_count": 10,
     "metadata": {},
     "output_type": "execute_result"
    }
   ],
   "source": [
    "text(sentences[3])"
   ]
  },
  {
   "cell_type": "code",
   "execution_count": null,
   "metadata": {
    "collapsed": true
   },
   "outputs": [],
   "source": []
  },
  {
   "cell_type": "code",
   "execution_count": 11,
   "metadata": {},
   "outputs": [],
   "source": [
    "# train the NLTK POSTAGGER on the corpus\n",
    "# create a tupple for every sentence such that (token, tag)\n",
    "tag_sent = []\n",
    "for item in sentences:\n",
    "    sent = []\n",
    "    for word in item:\n",
    "        text = word['form']\n",
    "        tag = word['upostag']\n",
    "        sent.append((text,tag))\n",
    "    tag_sent.append(sent)"
   ]
  },
  {
   "cell_type": "code",
   "execution_count": 12,
   "metadata": {
    "collapsed": true
   },
   "outputs": [],
   "source": [
    "#split to train and test sets\n",
    "size = int(len(tag_sent) * 0.9)\n",
    "train_sents = tag_sent[:size]\n",
    "test_sents = tag_sent[size:]"
   ]
  },
  {
   "cell_type": "code",
   "execution_count": 13,
   "metadata": {},
   "outputs": [
    {
     "data": {
      "text/plain": [
       "0.8034017775053631"
      ]
     },
     "execution_count": 13,
     "metadata": {},
     "output_type": "execute_result"
    }
   ],
   "source": [
    "# train Unigramtagger\n",
    "unigram_tagger = nltk.UnigramTagger(train_sents)\n",
    "unigram_tagger.evaluate(test_sents)"
   ]
  },
  {
   "cell_type": "code",
   "execution_count": 14,
   "metadata": {},
   "outputs": [
    {
     "data": {
      "text/plain": [
       "0.16993564204719583"
      ]
     },
     "execution_count": 14,
     "metadata": {},
     "output_type": "execute_result"
    }
   ],
   "source": [
    "#train a BigramTagger\n",
    "Bigram_tagger = nltk.BigramTagger(train_sents)\n",
    "Bigram_tagger.evaluate(test_sents)"
   ]
  },
  {
   "cell_type": "code",
   "execution_count": 15,
   "metadata": {},
   "outputs": [
    {
     "data": {
      "text/plain": [
       "0.0959239963224027"
      ]
     },
     "execution_count": 15,
     "metadata": {},
     "output_type": "execute_result"
    }
   ],
   "source": [
    "#train a Trigramtagger\n",
    "Trigram_tagger = nltk.TrigramTagger(train_sents)\n",
    "Trigram_tagger.evaluate(test_sents)"
   ]
  },
  {
   "cell_type": "code",
   "execution_count": 16,
   "metadata": {},
   "outputs": [
    {
     "data": {
      "text/plain": [
       "0.8125957707631014"
      ]
     },
     "execution_count": 16,
     "metadata": {},
     "output_type": "execute_result"
    }
   ],
   "source": [
    "#Ensemble the Uni and Bi - gram taggers\n",
    "t1 = nltk.UnigramTagger(train_sents)\n",
    "t2 = nltk.BigramTagger(train_sents, backoff=t1)\n",
    "t2.evaluate(test_sents)"
   ]
  },
  {
   "cell_type": "code",
   "execution_count": 17,
   "metadata": {},
   "outputs": [
    {
     "data": {
      "text/plain": [
       "0.8121360711002146"
      ]
     },
     "execution_count": 17,
     "metadata": {},
     "output_type": "execute_result"
    }
   ],
   "source": [
    "#Ensemble the Uni and Bi and Tri - gram taggers, the performance is slightly down, we stick with Uni and Bi -gram taggers\n",
    "t3 = nltk.TrigramTagger(train_sents, backoff=t2)\n",
    "t3.evaluate(test_sents)"
   ]
  },
  {
   "cell_type": "code",
   "execution_count": 18,
   "metadata": {
    "collapsed": true
   },
   "outputs": [],
   "source": [
    "#prepare the curl command\n",
    "import requests\n",
    "\n",
    "token = ''\n",
    "\n",
    "headers = {\n",
    "    'Authorization': 'LettriaProKey %s'%token,\n",
    "    'Content-Type': 'application/json',\n",
    "}"
   ]
  },
  {
   "cell_type": "code",
   "execution_count": 19,
   "metadata": {
    "collapsed": true
   },
   "outputs": [],
   "source": [
    "# we create a list that have full sentence to send to Lettria api, and tupples of tokens to measure accuracy later (sentence, (tokens,tags))\n",
    "# note, for this draft, no preprocessing of text is done. for example when there is the apostrophe like l'humain\n",
    "# it will be: (l',humain). it could be interesting to investigate if there is a change in performance\n",
    "sentences_ = []\n",
    "for sent in test_sents:\n",
    "    s = ' '.join(list(map(lambda x: x[0], sent)))\n",
    "    sentences_.append((s,sent))\n",
    "\n"
   ]
  },
  {
   "cell_type": "code",
   "execution_count": 20,
   "metadata": {},
   "outputs": [
    {
     "data": {
      "text/plain": [
       "('- Février 2005 : le parquet de Paris requiert un non- lieu en faveur de Jean Tiberi , accordé par le juge Armand Riberolles .',\n",
       " [('-', 'PONCT'),\n",
       "  ('Février', 'N'),\n",
       "  ('2005', 'N'),\n",
       "  (':', 'PONCT'),\n",
       "  ('le', 'D'),\n",
       "  ('parquet', 'N'),\n",
       "  ('de', 'P'),\n",
       "  ('Paris', 'N'),\n",
       "  ('requiert', 'V'),\n",
       "  ('un', 'D'),\n",
       "  ('non-', 'PREF'),\n",
       "  ('lieu', 'N'),\n",
       "  ('en', 'P'),\n",
       "  ('faveur', 'N'),\n",
       "  ('de', 'P'),\n",
       "  ('Jean', 'N'),\n",
       "  ('Tiberi', 'N'),\n",
       "  (',', 'PONCT'),\n",
       "  ('accordé', 'V'),\n",
       "  ('par', 'P'),\n",
       "  ('le', 'D'),\n",
       "  ('juge', 'N'),\n",
       "  ('Armand', 'N'),\n",
       "  ('Riberolles', 'N'),\n",
       "  ('.', 'PONCT')])"
      ]
     },
     "execution_count": 20,
     "metadata": {},
     "output_type": "execute_result"
    }
   ],
   "source": [
    "sentences_[1]"
   ]
  },
  {
   "cell_type": "code",
   "execution_count": 21,
   "metadata": {},
   "outputs": [
    {
     "data": {
      "text/plain": [
       "'{ \"text\": \"- 19 janvier 2004 : le juge Armand Riberolles clôt ses investigations et l\\' instruction de l\\' affaire des HLM de Paris .\" }'"
      ]
     },
     "execution_count": 21,
     "metadata": {},
     "output_type": "execute_result"
    }
   ],
   "source": [
    "# make Lettria text compliant sentence\n",
    "testsent = '\"' + sentences_[0][0] + '\"'\n",
    "data = '{ \"text\": %s }'%testsent\n",
    "data"
   ]
  },
  {
   "cell_type": "code",
   "execution_count": 22,
   "metadata": {
    "collapsed": true
   },
   "outputs": [],
   "source": [
    "response = requests.post('https://api.lettria.com/main', headers=headers, data=data)"
   ]
  },
  {
   "cell_type": "code",
   "execution_count": 23,
   "metadata": {},
   "outputs": [
    {
     "data": {
      "text/plain": [
       "{'Entities_numeral': [],\n",
       " 'NER': [{'meaning': ['Number'], 'source': '19', 'value': '19'},\n",
       "  {'meaning': ['firstname', 'Mois'], 'source': 'janvier', 'value': None},\n",
       "  {'meaning': ['Number'], 'source': '2004', 'value': '2004'},\n",
       "  {'meaning': [], 'source': 'Armand', 'value': None},\n",
       "  {'meaning': [], 'source': 'Riberolles', 'value': None},\n",
       "  {'meaning': [], 'source': 'investigations', 'value': None},\n",
       "  {'meaning': ['Documents'], 'source': 'instruction', 'value': None},\n",
       "  {'meaning': [], 'source': 'affaire', 'value': None},\n",
       "  {'meaning': ['Edifices'], 'source': 'HLM', 'value': None},\n",
       "  {'meaning': ['Prefectures', 'firstname'], 'source': 'Paris', 'value': None}],\n",
       " 'NLP': [{'source': '-', 'tag': 'PUNCT'},\n",
       "  {'lemmatizer': {'confidence': '0.99', 'number': '19'},\n",
       "   'source': '19',\n",
       "   'tag': 'CD'},\n",
       "  {'lemmatizer': {'confidence': '0.70',\n",
       "    'gender': {'female': False, 'plural': False},\n",
       "    'lemma': 'janvier'},\n",
       "   'source': 'janvier',\n",
       "   'tag': 'N'},\n",
       "  {'lemmatizer': {'confidence': '0.99', 'number': '2004'},\n",
       "   'source': '2004',\n",
       "   'tag': 'CD'},\n",
       "  {'source': ':', 'tag': 'PUNCT'},\n",
       "  {'lemmatizer': {'gender': {'female': False, 'plural': False},\n",
       "    'mode': 'define',\n",
       "    'possessing': -1},\n",
       "   'source': 'le',\n",
       "   'tag': 'D'},\n",
       "  {'lemmatizer': {'confidence': '0.50',\n",
       "    'gender': {'female': False, 'plural': False},\n",
       "    'lemma': 'juge'},\n",
       "   'source': 'juge',\n",
       "   'tag': 'JJ'},\n",
       "  {'source': 'Armand', 'tag': 'NP'},\n",
       "  {'source': 'Riberolles', 'tag': 'NP'},\n",
       "  {'lemmatizer': {'confidence': '0.20',\n",
       "    'conjugate': None,\n",
       "    'infinit': 'cl�re',\n",
       "    'lemma': ''},\n",
       "   'source': 'cl�t',\n",
       "   'tag': 'V'},\n",
       "  {'lemmatizer': {'gender': {'female': False, 'plural': True},\n",
       "    'mode': 'possessive',\n",
       "    'possessing': 3},\n",
       "   'source': 'ses',\n",
       "   'tag': 'D'},\n",
       "  {'lemmatizer': {'confidence': '0.60',\n",
       "    'gender': {'female': False, 'plural': True},\n",
       "    'lemma': 'investigation'},\n",
       "   'source': 'investigations',\n",
       "   'tag': 'N'},\n",
       "  {'source': 'et', 'tag': 'CC'},\n",
       "  {'lemmatizer': {'gender': {'female': False, 'plural': False},\n",
       "    'mode': 'define',\n",
       "    'possessing': -1},\n",
       "   'source': 'le',\n",
       "   'tag': 'D'},\n",
       "  {'lemmatizer': {'confidence': '0.70',\n",
       "    'gender': {'female': False, 'plural': False},\n",
       "    'lemma': 'instruction'},\n",
       "   'source': 'instruction',\n",
       "   'tag': 'N'},\n",
       "  {'lemmatizer': {'sens': [{'category': 'Cause',\n",
       "      'next': 'NULL',\n",
       "      'sens': 'NULL'},\n",
       "     {'category': 'Duration', 'next': 'time', 'sens': 'NULL'},\n",
       "     {'category': 'Source', 'next': 'space', 'sens': 'FROM'},\n",
       "     {'category': 'Origin', 'next': 'time', 'sens': 'NULL'},\n",
       "     {'category': 'Manner', 'next': 'NULL', 'sens': 'WITH'},\n",
       "     {'category': 'Origin', 'next': 'space', 'sens': 'NULL'},\n",
       "     {'category': 'Means', 'next': 'NULL', 'sens': 'WITH'}],\n",
       "    'source': 'de'},\n",
       "   'source': 'de',\n",
       "   'tag': 'P'},\n",
       "  {'lemmatizer': {'gender': {'female': False, 'plural': False},\n",
       "    'mode': 'define',\n",
       "    'possessing': -1},\n",
       "   'source': 'le',\n",
       "   'tag': 'D'},\n",
       "  {'lemmatizer': {'confidence': '0.70',\n",
       "    'gender': {'female': False, 'plural': False},\n",
       "    'lemma': 'affaire'},\n",
       "   'source': 'affaire',\n",
       "   'tag': 'N'},\n",
       "  {'lemmatizer': {'sens': None, 'source': 'des'}, 'source': 'des', 'tag': 'P'},\n",
       "  {'source': 'HLM', 'tag': 'NP'},\n",
       "  {'lemmatizer': {'sens': [{'category': 'Cause',\n",
       "      'next': 'NULL',\n",
       "      'sens': 'NULL'},\n",
       "     {'category': 'Duration', 'next': 'time', 'sens': 'NULL'},\n",
       "     {'category': 'Source', 'next': 'space', 'sens': 'FROM'},\n",
       "     {'category': 'Origin', 'next': 'time', 'sens': 'NULL'},\n",
       "     {'category': 'Manner', 'next': 'NULL', 'sens': 'WITH'},\n",
       "     {'category': 'Origin', 'next': 'space', 'sens': 'NULL'},\n",
       "     {'category': 'Means', 'next': 'NULL', 'sens': 'WITH'}],\n",
       "    'source': 'de'},\n",
       "   'source': 'de',\n",
       "   'tag': 'P'},\n",
       "  {'source': 'Paris', 'tag': 'NP'},\n",
       "  {'source': '.', 'tag': 'PUNCT'}],\n",
       " 'NLU': [{'meaning': 'PUNCT', 'source': '-', 'value': None},\n",
       "  {'meaning': ['Number'], 'source': '19', 'value': '19'},\n",
       "  {'meaning': ['firstname', 'Mois'], 'source': 'janvier', 'value': None},\n",
       "  {'meaning': ['Number'], 'source': '2004', 'value': '2004'},\n",
       "  {'meaning': 'PUNCT', 'source': ':', 'value': None},\n",
       "  {'meaning': 'D', 'source': 'le', 'value': None},\n",
       "  {'meaning': ['Metiers du droit', 'metiers'],\n",
       "   'source': 'juge',\n",
       "   'value': None},\n",
       "  {'meaning': [], 'source': 'Armand', 'value': None},\n",
       "  {'meaning': [], 'source': 'Riberolles', 'value': None},\n",
       "  {'meaning': [], 'source': 'cl�re', 'value': None},\n",
       "  {'meaning': 'D', 'source': 'ses', 'value': None},\n",
       "  {'meaning': [], 'source': 'investigations', 'value': None},\n",
       "  {'meaning': ['Conj Coordinate'], 'source': 'et', 'value': '&'},\n",
       "  {'meaning': 'D', 'source': 'le', 'value': None},\n",
       "  {'meaning': ['Documents'], 'source': 'instruction', 'value': None},\n",
       "  {'meaning': [{'category': 'Cause', 'next': 'NULL', 'sens': 'NULL'},\n",
       "    {'category': 'Duration', 'next': 'time', 'sens': 'NULL'},\n",
       "    {'category': 'Source', 'next': 'space', 'sens': 'FROM'},\n",
       "    {'category': 'Origin', 'next': 'time', 'sens': 'NULL'},\n",
       "    {'category': 'Manner', 'next': 'NULL', 'sens': 'WITH'},\n",
       "    {'category': 'Origin', 'next': 'space', 'sens': 'NULL'},\n",
       "    {'category': 'Means', 'next': 'NULL', 'sens': 'WITH'}],\n",
       "   'source': 'de',\n",
       "   'value': None},\n",
       "  {'meaning': 'D', 'source': 'le', 'value': None},\n",
       "  {'meaning': [], 'source': 'affaire', 'value': None},\n",
       "  {'meaning': [], 'source': 'des', 'value': None},\n",
       "  {'meaning': ['Edifices'], 'source': 'HLM', 'value': None},\n",
       "  {'meaning': [{'category': 'Cause', 'next': 'NULL', 'sens': 'NULL'},\n",
       "    {'category': 'Duration', 'next': 'time', 'sens': 'NULL'},\n",
       "    {'category': 'Source', 'next': 'space', 'sens': 'FROM'},\n",
       "    {'category': 'Origin', 'next': 'time', 'sens': 'NULL'},\n",
       "    {'category': 'Manner', 'next': 'NULL', 'sens': 'WITH'},\n",
       "    {'category': 'Origin', 'next': 'space', 'sens': 'NULL'},\n",
       "    {'category': 'Means', 'next': 'NULL', 'sens': 'WITH'}],\n",
       "   'source': 'de',\n",
       "   'value': None},\n",
       "  {'meaning': ['Prefectures', 'firstname'], 'source': 'Paris', 'value': None},\n",
       "  {'meaning': 'PUNCT', 'source': '.', 'value': None}],\n",
       " 'Sentiment': {'anger': 0,\n",
       "  'calculate': '0.5 ',\n",
       "  'disgust': 0,\n",
       "  'fear': 0,\n",
       "  'joy': 0,\n",
       "  'resultat': 0.5,\n",
       "  'sadness': 0,\n",
       "  'surprise': 0},\n",
       " 'emoticons': {'confidence': '0.89',\n",
       "  'emoticon': {'Thappy': 0,\n",
       "   'angel': 0,\n",
       "   'cry': 0,\n",
       "   'devil': 0,\n",
       "   'embarrassed': 0,\n",
       "   'happy': 0,\n",
       "   'hesitant': 0,\n",
       "   'horror': 0,\n",
       "   'indecision': 0,\n",
       "   'kiss': 0,\n",
       "   'lol': 0,\n",
       "   'love': 0,\n",
       "   'muted': 0,\n",
       "   'notlove': 0,\n",
       "   'playful': 0,\n",
       "   'sad': 0,\n",
       "   'surprise': 0,\n",
       "   'very_happy': 0,\n",
       "   'very_sad': 0,\n",
       "   'wink': 0}},\n",
       " 'language_used': ['fr',\n",
       "  {'da': 2,\n",
       "   'de': 1,\n",
       "   'en': 0,\n",
       "   'es': 2,\n",
       "   'fi': 1,\n",
       "   'fr': 5,\n",
       "   'hu': 1,\n",
       "   'it': 1,\n",
       "   'kk': 0,\n",
       "   'nl': 1,\n",
       "   'no': 2,\n",
       "   'pt': 1,\n",
       "   'ru': 0,\n",
       "   'sv': 1,\n",
       "   'tr': 1}],\n",
       " 'postagger': [['-', 'PUNCT'],\n",
       "  ['19', 'CD'],\n",
       "  ['janvier', 'N'],\n",
       "  ['2004', 'CD'],\n",
       "  [':', 'PUNCT'],\n",
       "  ['le', 'D'],\n",
       "  ['juge', 'JJ'],\n",
       "  ['Armand', 'NP'],\n",
       "  ['Riberolles', 'NP'],\n",
       "  ['cl�t', 'V'],\n",
       "  ['ses', 'D'],\n",
       "  ['investigations', 'N'],\n",
       "  ['et', 'CC'],\n",
       "  ['le', 'D'],\n",
       "  ['instruction', 'N'],\n",
       "  ['de', 'P'],\n",
       "  ['le', 'D'],\n",
       "  ['affaire', 'N'],\n",
       "  ['des', 'P'],\n",
       "  ['HLM', 'NP'],\n",
       "  ['de', 'P'],\n",
       "  ['Paris', 'NP'],\n",
       "  ['.', 'PUNCT']]}"
      ]
     },
     "execution_count": 23,
     "metadata": {},
     "output_type": "execute_result"
    }
   ],
   "source": [
    "# test response\n",
    "response.json()"
   ]
  },
  {
   "cell_type": "code",
   "execution_count": 24,
   "metadata": {},
   "outputs": [],
   "source": [
    "r = response.json()['postagger']"
   ]
  },
  {
   "cell_type": "code",
   "execution_count": 25,
   "metadata": {},
   "outputs": [
    {
     "name": "stdout",
     "output_type": "stream",
     "text": [
      "['-', 'PUNCT'] ('-', 'PONCT')\n",
      "['19', 'CD'] ('19', 'A')\n",
      "['janvier', 'N'] ('janvier', 'N')\n",
      "['2004', 'CD'] ('2004', 'N')\n",
      "[':', 'PUNCT'] (':', 'PONCT')\n",
      "['le', 'D'] ('le', 'D')\n",
      "['juge', 'JJ'] ('juge', 'N')\n",
      "['Armand', 'NP'] ('Armand', 'N')\n",
      "['Riberolles', 'NP'] ('Riberolles', 'N')\n",
      "['cl�t', 'V'] ('clôt', 'V')\n",
      "['ses', 'D'] ('ses', 'D')\n",
      "['investigations', 'N'] ('investigations', 'N')\n",
      "['et', 'CC'] ('et', 'C')\n",
      "['le', 'D'] (\"l'\", 'D')\n",
      "['instruction', 'N'] ('instruction', 'N')\n",
      "['de', 'P'] ('de', 'P')\n",
      "['le', 'D'] (\"l'\", 'D')\n",
      "['affaire', 'N'] ('affaire', 'N')\n",
      "['des', 'P'] ('des', 'P+D')\n",
      "['HLM', 'NP'] ('HLM', 'N')\n",
      "['de', 'P'] ('de', 'P')\n",
      "['Paris', 'NP'] ('Paris', 'N')\n",
      "['.', 'PUNCT'] ('.', 'PONCT')\n"
     ]
    }
   ],
   "source": [
    "for i,j in zip(r,sentences_[0][1]):\n",
    "    print(i,j)"
   ]
  },
  {
   "cell_type": "code",
   "execution_count": 26,
   "metadata": {},
   "outputs": [
    {
     "name": "stdout",
     "output_type": "stream",
     "text": [
      "Accuracy on the test sentence using Lettria tagger is 86.96%\n"
     ]
    }
   ],
   "source": [
    "#To compute accuracy for this sentence i assumed the following to be True:\n",
    "# PUNCT == PONCT, NP == N, CC == C, P == P+D. The result is 20 correct tags with test_set\n",
    "# The three only mistakes: two are on numbers, and one was on the word \"juge\"\n",
    "print('Accuracy on the test sentence using Lettria tagger is {:.2f}%'.format(20/len(r)*100))"
   ]
  },
  {
   "cell_type": "code",
   "execution_count": 27,
   "metadata": {},
   "outputs": [
    {
     "name": "stdout",
     "output_type": "stream",
     "text": [
      "('\"-', None) ('-', 'PONCT')\n",
      "('19', 'A') ('19', 'A')\n",
      "('janvier', 'N') ('janvier', 'N')\n",
      "('2004', 'N') ('2004', 'N')\n",
      "(':', 'PONCT') (':', 'PONCT')\n",
      "('le', 'D') ('le', 'D')\n",
      "('juge', 'N') ('juge', 'N')\n",
      "('Armand', 'N') ('Armand', 'N')\n",
      "('Riberolles', 'N') ('Riberolles', 'N')\n",
      "('clôt', None) ('clôt', 'V')\n",
      "('ses', 'D') ('ses', 'D')\n",
      "('investigations', 'N') ('investigations', 'N')\n",
      "('et', 'C') ('et', 'C')\n",
      "(\"l'\", 'D') (\"l'\", 'D')\n",
      "('instruction', 'N') ('instruction', 'N')\n",
      "('de', 'P') ('de', 'P')\n",
      "(\"l'\", 'D') (\"l'\", 'D')\n",
      "('affaire', 'N') ('affaire', 'N')\n",
      "('des', 'P+D') ('des', 'P+D')\n",
      "('HLM', 'N') ('HLM', 'N')\n",
      "('de', 'P') ('de', 'P')\n",
      "('Paris', 'N') ('Paris', 'N')\n",
      "('.\"', None) ('.', 'PONCT')\n"
     ]
    }
   ],
   "source": [
    "testsentntlk = testsent.split()\n",
    "for i, j in zip(t3.tag(testsentntlk),sentences_[0][1]):\n",
    "    print(i,j)"
   ]
  },
  {
   "cell_type": "code",
   "execution_count": 28,
   "metadata": {},
   "outputs": [
    {
     "name": "stdout",
     "output_type": "stream",
     "text": [
      "Accuracy on the test sentence using NTLK tagger is 86.96%\n"
     ]
    }
   ],
   "source": [
    "# The three only mistakes: two are on punctuations, and one was on the word \"clôt\"\n",
    "print('Accuracy on the test sentence using NTLK tagger is {:.2f}%'.format(20/len(r)*100))"
   ]
  },
  {
   "cell_type": "code",
   "execution_count": 29,
   "metadata": {
    "collapsed": true
   },
   "outputs": [],
   "source": [
    "# More analysis to come"
   ]
  }
 ],
 "metadata": {
  "kernelspec": {
   "display_name": "Python 3",
   "language": "python",
   "name": "python3"
  },
  "language_info": {
   "codemirror_mode": {
    "name": "ipython",
    "version": 3
   },
   "file_extension": ".py",
   "mimetype": "text/x-python",
   "name": "python",
   "nbconvert_exporter": "python",
   "pygments_lexer": "ipython3",
   "version": "3.5.4"
  }
 },
 "nbformat": 4,
 "nbformat_minor": 2
}
